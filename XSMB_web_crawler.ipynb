{
 "cells": [
  {
   "cell_type": "code",
   "execution_count": 34,
   "metadata": {},
   "outputs": [],
   "source": [
    "import requests\n",
    "from bs4 import BeautifulSoup"
   ]
  },
  {
   "cell_type": "code",
   "execution_count": 35,
   "metadata": {},
   "outputs": [
    {
     "name": "stdout",
     "output_type": "stream",
     "text": [
      "<Response [200]>\n"
     ]
    }
   ],
   "source": [
    "url = 'https://xoso.com.vn/xsmb-300-ngay.html'\n",
    "headers = {\n",
    "    'User-Agent': 'Mozilla/5.0 (Windows NT 10.0; Win64; x64) AppleWebKit/537.36 (KHTML, like Gecko) Chrome/121.0.0.0 Safari/537.36',\n",
    "    'Referer': url,\n",
    "}\n",
    "response = requests.get(url, headers=headers)\n",
    "print(response)"
   ]
  },
  {
   "cell_type": "code",
   "execution_count": 36,
   "metadata": {},
   "outputs": [],
   "source": [
    "if response.status_code == 200:\n",
    "    soup = BeautifulSoup(response.content, 'html.parser')\n",
    "    tables = soup.find_all('table', class_='table-result font-skq')\n",
    "\n",
    "    for table in tables:\n",
    "        # Extract the date of the lottery results\n",
    "        date_element = table.find_previous_sibling('h3', class_='head-th')\n",
    "        if date_element:\n",
    "            date = date_element.text.strip()\n",
    "            print(\"Lottery Date:\", date)\n",
    "\n",
    "        # Extract special prize and first prize numbers\n",
    "        special_prize = table.find('span', class_='special-prize').text.strip()\n",
    "        first_prize = table.find('span', class_='prize1').text.strip()\n",
    "\n",
    "        # Print the results\n",
    "        print(\"Special Prize:\", special_prize)\n",
    "        print(\"First Prize:\", first_prize)\n",
    "        print()  # Add a blank line between each set of results"
   ]
  },
  {
   "cell_type": "code",
   "execution_count": 39,
   "metadata": {},
   "outputs": [
    {
     "name": "stdout",
     "output_type": "stream",
     "text": [
      "Lottery Date: XSMB Thứ 6, 08/03/2024\n",
      "Special Prize: 71307\n",
      "First Prize: 20243\n"
     ]
    }
   ],
   "source": [
    "table = soup.find('table', class_='table-result font-skq')\n",
    "\n",
    "    # Check if the table is found\n",
    "if table:\n",
    "        # Extract the date of the lottery results\n",
    "        date_element = soup.find('h3', class_='head-th')\n",
    "        if date_element:\n",
    "            date = date_element.text.strip()\n",
    "            print(\"Lottery Date:\", date)\n",
    "\n",
    "        # Extract special prize and first prize numbers\n",
    "        special_prize = table.find('span', class_='special-prize').text.strip()\n",
    "        first_prize = table.find('span', class_='prize1').text.strip()\n",
    "\n",
    "        # Print the results\n",
    "        print(\"Special Prize:\", special_prize)\n",
    "        print(\"First Prize:\", first_prize)"
   ]
  }
 ],
 "metadata": {
  "kernelspec": {
   "display_name": "crawling",
   "language": "python",
   "name": "python3"
  },
  "language_info": {
   "codemirror_mode": {
    "name": "ipython",
    "version": 3
   },
   "file_extension": ".py",
   "mimetype": "text/x-python",
   "name": "python",
   "nbconvert_exporter": "python",
   "pygments_lexer": "ipython3",
   "version": "3.10.11"
  }
 },
 "nbformat": 4,
 "nbformat_minor": 2
}
